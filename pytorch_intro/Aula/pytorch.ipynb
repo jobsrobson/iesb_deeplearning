{
 "cells": [
  {
   "cell_type": "code",
   "execution_count": null,
   "metadata": {},
   "outputs": [],
   "source": [
    "import torch"
   ]
  },
  {
   "cell_type": "code",
   "execution_count": 7,
   "metadata": {},
   "outputs": [
    {
     "name": "stdout",
     "output_type": "stream",
     "text": [
      "tensor([1., 2., 3.])\n"
     ]
    }
   ],
   "source": [
    "# Tensor a partir de lista\n",
    "t1 = torch.tensor([1.0, 2.0, 3.0])\n",
    "print(t1)"
   ]
  },
  {
   "cell_type": "code",
   "execution_count": 8,
   "metadata": {},
   "outputs": [
    {
     "name": "stdout",
     "output_type": "stream",
     "text": [
      "tensor([[ 0.7672,  0.0464,  0.4477],\n",
      "        [-0.8603,  1.2338,  2.5839]])\n"
     ]
    }
   ],
   "source": [
    "# Tensor com valores aleatórios\n",
    "t2 = torch.randn(2, 3)  # 2 linhas, 3 colunas\n",
    "print(t2)"
   ]
  },
  {
   "cell_type": "code",
   "execution_count": 9,
   "metadata": {},
   "outputs": [
    {
     "name": "stdout",
     "output_type": "stream",
     "text": [
      "tensor([[0., 0., 0., 0.],\n",
      "        [0., 0., 0., 0.],\n",
      "        [0., 0., 0., 0.],\n",
      "        [0., 0., 0., 0.]])\n"
     ]
    }
   ],
   "source": [
    "# Tensor com todos os zeros\n",
    "z = torch.zeros(4, 4)\n",
    "print(z)"
   ]
  },
  {
   "cell_type": "code",
   "execution_count": 10,
   "metadata": {},
   "outputs": [
    {
     "name": "stdout",
     "output_type": "stream",
     "text": [
      "tensor([[1., 1.],\n",
      "        [1., 1.]])\n"
     ]
    }
   ],
   "source": [
    "# Tensor preenchido com 1s\n",
    "o = torch.ones(2,2)\n",
    "print(o)"
   ]
  },
  {
   "cell_type": "code",
   "execution_count": 16,
   "metadata": {},
   "outputs": [
    {
     "name": "stdout",
     "output_type": "stream",
     "text": [
      "tensor([[ 6.,  8.],\n",
      "        [ 8., 10.]])\n",
      "tensor([3., 8.])\n",
      "tensor(11.)\n"
     ]
    }
   ],
   "source": [
    "# Operações Matemáticas com Tensores (similar ao NumPy)\n",
    "a = torch.tensor([1.0, 2.0])\n",
    "b = torch.tensor([3.0, 4.0])\n",
    "c = torch.tensor([[5.0, 6.0], [7.0, 8.0]])\n",
    "\n",
    "# Soma\n",
    "print(a + c)\n",
    "\n",
    "# Multiplicação (elemento a elemento)\n",
    "print(a * b)\n",
    "\n",
    "# Produto Escalar\n",
    "print(a @ b)"
   ]
  },
  {
   "cell_type": "markdown",
   "metadata": {},
   "source": [
    "### Funções"
   ]
  },
  {
   "cell_type": "code",
   "execution_count": null,
   "metadata": {},
   "outputs": [],
   "source": [
    "def sum_tensor(a, b): # Definir função de soma\n",
    "    # Soma dois tensores\n",
    "    return a + b\n",
    "\n",
    "def set_device(): # Definir dispositivo para tensor\n",
    "    # Verifica se CUDA está disponível e define o dispositivo apropriado\n",
    "    # Se CUDA não estiver disponível, usa CPU\n",
    "    return torch.device('cuda' if torch.cuda.is_available() else 'cpu')\n",
    "\n",
    "def reshape_tensor(t): # Redimensionar tensor\n",
    "    print(t.shape) # Imprime a forma original do tensor\n",
    "    print(t.ndim) # Imprime o número de dimensões do tensor\n",
    "\n",
    "def broadcast_tensor(a, b): # Broadcast de tensores\n",
    "    # Realiza broadcast entre dois tensores e retorna o resultado\n",
    "    return a + b\n",
    "\n",
    "def autograd_tensor(): # Demonstração do autograd do PyTorch\n",
    "    # Cria um tensor com gradientes habilitados e calcula a derivada de uma função polinomial com relação a esse tensor\n",
    "    x = torch.tensor(2.0, requires_grad=True)\n",
    "    y = x ** 4 + x ** 3 + 3 * x ** 2 + 6 * x + 1\n",
    "    y.backward()\n",
    "    print(x.grad)"
   ]
  },
  {
   "cell_type": "code",
   "execution_count": 17,
   "metadata": {},
   "outputs": [
    {
     "name": "stdout",
     "output_type": "stream",
     "text": [
      "cpu\n"
     ]
    }
   ],
   "source": [
    "print(set_device()) # Imprime o dispositivo atual"
   ]
  },
  {
   "cell_type": "code",
   "execution_count": null,
   "metadata": {},
   "outputs": [],
   "source": []
  }
 ],
 "metadata": {
  "kernelspec": {
   "display_name": "Python 3",
   "language": "python",
   "name": "python3"
  },
  "language_info": {
   "codemirror_mode": {
    "name": "ipython",
    "version": 3
   },
   "file_extension": ".py",
   "mimetype": "text/x-python",
   "name": "python",
   "nbconvert_exporter": "python",
   "pygments_lexer": "ipython3",
   "version": "3.12.1"
  }
 },
 "nbformat": 4,
 "nbformat_minor": 2
}
